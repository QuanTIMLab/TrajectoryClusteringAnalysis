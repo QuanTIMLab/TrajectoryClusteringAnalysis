{
 "cells": [
  {
   "cell_type": "code",
   "execution_count": 8,
   "id": "996dadc7",
   "metadata": {},
   "outputs": [],
   "source": [
    "import pandas as pd\n",
    "import plotly.graph_objects as go\n",
    "from scipy.cluster.hierarchy import  dendrogram,linkage\n",
    "from scipy.cluster import hierarchy\n",
    "import matplotlib.pyplot as plt\n",
    "from scipy.spatial.distance import hamming\n",
    "from scipy.spatial.distance import pdist\n",
    "import numpy as np"
   ]
  },
  {
   "cell_type": "code",
   "execution_count": 4,
   "id": "2bb01711",
   "metadata": {},
   "outputs": [],
   "source": [
    "import TrajectoryClusteringAnalysis as TCA"
   ]
  },
  {
   "cell_type": "code",
   "execution_count": null,
   "id": "ae028de3",
   "metadata": {},
   "outputs": [],
   "source": [
    "df = pd.read_csv('../data/mvad_data.csv')\n",
    "# tranformer vos données en format large si c'est n'est pas le cas \n",
    "state_mapping = {\"EM\": 2, \"FE\": 4, \"HE\": 6, \"JL\": 8, \"SC\": 10, \"TR\": 12}\n",
    "colors = ['blue', 'orange', 'green', 'red', 'yellow', 'gray']\n",
    "df_numeriques = df.replace(state_mapping)\n",
    "tca = TCA.TCA.TCA(df_numeriques,state_mapping,colors)\n",
    "tca.bar_treatment_percentage()"
   ]
  },
  {
   "cell_type": "code",
   "execution_count": null,
   "id": "8b6390b1",
   "metadata": {},
   "outputs": [],
   "source": [
    "!pip install ../dist/TrajectoryClusteringAnalysis-0.0.3-py3-none-any.whl"
   ]
  },
  {
   "cell_type": "code",
   "execution_count": null,
   "id": "c3053dd1",
   "metadata": {},
   "outputs": [],
   "source": [
    "df = pd.read_csv('C:/Users/ndiaga.dieng/Documents/TCA/data/mvad_data.csv')\n",
    "print(df.head())\n"
   ]
  },
  {
   "cell_type": "code",
   "execution_count": null,
   "id": "066cd7a1",
   "metadata": {},
   "outputs": [],
   "source": [
    "df.columns"
   ]
  },
  {
   "cell_type": "code",
   "execution_count": null,
   "id": "09314716",
   "metadata": {},
   "outputs": [],
   "source": [
    "#df_subset = df.iloc[:10, :] \n",
    "df_subset = df\n",
    "df_subset"
   ]
  },
  {
   "cell_type": "code",
   "execution_count": null,
   "id": "e81fbb6a",
   "metadata": {
    "scrolled": true
   },
   "outputs": [],
   "source": [
    "drug_mapping = {\"EM\":2, \"FE\":4, \"HE\":6, \"JL\":8, \"SC\":10, \"TR\":12}\n",
    "df_subsets_numeriques = df_subset.replace(drug_mapping)\n",
    "df_subsets_numeriques"
   ]
  },
  {
   "cell_type": "markdown",
   "id": "41b9ebcd",
   "metadata": {},
   "source": [
    "## TAK (Ndiaga)"
   ]
  },
  {
   "cell_type": "code",
   "execution_count": null,
   "id": "f582550a",
   "metadata": {},
   "outputs": [],
   "source": [
    "data_array = df_subset.to_numpy()\n",
    "distance_matrix = pdist(data_array, 'hamming')    \n",
    "linkage_matrix = linkage(distance_matrix, method='ward',optimal_ordering=True)\n",
    "plt.figure(figsize=(10, 6))\n",
    "dendrogram(linkage_matrix)\n",
    "plt.title('Dendrogram of Treatment Sequences')\n",
    "plt.xlabel('Patients')\n",
    "plt.ylabel('Distance')\n",
    "plt.show()"
   ]
  },
  {
   "cell_type": "code",
   "execution_count": 7,
   "id": "2623d33a",
   "metadata": {},
   "outputs": [],
   "source": [
    "leaves_order= list(hierarchy.leaves_list(linkage_matrix))\n",
    "data_array = data_array[leaves_order]"
   ]
  },
  {
   "cell_type": "code",
   "execution_count": null,
   "id": "8e9427cc",
   "metadata": {},
   "outputs": [],
   "source": [
    "import plotly.graph_objects as go\n",
    "\n",
    "colors = ['blue', 'orange', 'green', 'red', 'yellow', 'gray']\n",
    "heatmap = go.Heatmap(z=data_array,colorscale= colors)\n",
    "\n",
    "# Créer une figure\n",
    "fig = go.Figure(data=heatmap)\n",
    "fig.update_layout(\n",
    "    title='TAK ',\n",
    "    xaxis_title='Temps',\n",
    "    yaxis_title='Patients',\n",
    ")\n",
    "\n",
    "# Afficher le graphique\n",
    "fig.show()"
   ]
  },
  {
   "cell_type": "markdown",
   "id": "d62a1cc9",
   "metadata": {},
   "source": [
    "# Fitltre modal\n",
    "Dans l'article original, il est mentionné qu'un filtre modal est utilisé pour cette étape"
   ]
  },
  {
   "cell_type": "code",
   "execution_count": 11,
   "id": "f39cdb3c",
   "metadata": {},
   "outputs": [],
   "source": [
    "import numpy as np\n",
    "\n",
    "def modal_filter(data, kernel_size):\n",
    "    filtered_data = np.full_like(data, np.nan)\n",
    "    kernel_rows, kernel_cols = kernel_size\n",
    "    \n",
    "    for i in range(len(data)):\n",
    "        row_min = max(0, i - kernel_rows // 2)\n",
    "        row_max = min(len(data), i + kernel_rows // 2 + 1)\n",
    "        for j in range(len(data[i])):\n",
    "            col_min = max(0, j - kernel_cols // 2)\n",
    "            col_max = min(len(data[i]), j + kernel_cols // 2 + 1)\n",
    "            kernel_values = data[row_min:row_max, col_min:col_max].flatten()\n",
    "            # Filter out negative values and NaN\n",
    "            kernel_values = kernel_values[~np.isnan(kernel_values)]\n",
    "            if len(kernel_values) > 0:\n",
    "                # Convert kernel_values to integers\n",
    "                kernel_values_int = kernel_values.astype(int)\n",
    "                most_frequent_value = np.argmax(np.bincount(kernel_values_int))\n",
    "                filtered_data[i, j] = most_frequent_value\n",
    "    \n",
    "    return filtered_data\n",
    "\n",
    "\n",
    "\n",
    "filtered_data_opt = modal_filter(data_array, (10, 7))"
   ]
  },
  {
   "cell_type": "code",
   "execution_count": null,
   "id": "42f6c8a5",
   "metadata": {},
   "outputs": [],
   "source": [
    "\n",
    "\n",
    "heatmap1 = go.Heatmap(z=filtered_data_opt,colorscale= colors)\n",
    "\n",
    "# Créer une figure\n",
    "fig = go.Figure(data=heatmap1)\n",
    "fig.update_layout(\n",
    "    title='Ordered Treatment Sequences  optimal leaves',\n",
    "    xaxis_title='Temps',\n",
    "    yaxis_title='Patients',\n",
    ")\n",
    "\n",
    "# Afficher le graphique\n",
    "fig.show()"
   ]
  },
  {
   "cell_type": "code",
   "execution_count": null,
   "id": "3caa8a6a",
   "metadata": {},
   "outputs": [],
   "source": [
    "\n",
    "# List of treatments\n",
    "treatments = [\"EM\", \"FE\", \"HE\", \"JL\", \"SC\", \"TR\"]\n",
    "\n",
    "# Define colors for treatments\n",
    "colors = ['blue', 'orange', 'green', 'red', 'yellow', 'gray']\n",
    "\n",
    "# Create a figure\n",
    "fig = go.Figure()\n",
    "\n",
    "# Iterate over treatments\n",
    "for treatment, color in zip(treatments, colors):\n",
    "    # Extract data for the current treatment\n",
    "    treatment_data = df[df.eq(treatment).any(axis=1)]\n",
    "    # Get the columns representing months\n",
    "    months = treatment_data.columns\n",
    "    # Calculate the percentage of patients under the current treatment for each month\n",
    "    percentages = (treatment_data.apply(lambda x: x.value_counts().get(treatment, 0)) / len(treatment_data)) * 100\n",
    "    # Plot the curve for the percentage of patients under the treatment over time\n",
    "    fig.add_trace(go.Scatter(x=months, y=percentages, mode='lines', name=treatment, line=dict(color=color)))\n",
    "\n",
    "# Update layout\n",
    "fig.update_layout(\n",
    "    title='Percentage of Patients under Each Treatment Over Time',\n",
    "    xaxis_title='Time',\n",
    "    yaxis_title='Percentage of Patients',\n",
    "    legend_title='Treatment',\n",
    "    yaxis=dict(tickformat=\".2f\")\n",
    ")\n",
    "\n",
    "# Display the graph\n",
    "fig.show()\n"
   ]
  },
  {
   "cell_type": "code",
   "execution_count": null,
   "id": "b719d120",
   "metadata": {},
   "outputs": [],
   "source": []
  }
 ],
 "metadata": {
  "kernelspec": {
   "display_name": "base",
   "language": "python",
   "name": "python3"
  },
  "language_info": {
   "codemirror_mode": {
    "name": "ipython",
    "version": 3
   },
   "file_extension": ".py",
   "mimetype": "text/x-python",
   "name": "python",
   "nbconvert_exporter": "python",
   "pygments_lexer": "ipython3",
   "version": "3.11.5"
  }
 },
 "nbformat": 4,
 "nbformat_minor": 5
}
