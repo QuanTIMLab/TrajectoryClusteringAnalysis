{
 "cells": [
  {
   "cell_type": "code",
   "execution_count": 4,
   "metadata": {},
   "outputs": [],
   "source": [
    "import sys\n",
    "sys.path.append('C:/Users/ndiaga.dieng/Documents/TrajectoryClusteringAnalysis/')\n"
   ]
  },
  {
   "cell_type": "code",
   "execution_count": 7,
   "metadata": {},
   "outputs": [],
   "source": [
    "import pandas as pd\n",
    "import plotly.graph_objects as go\n",
    "from scipy.cluster.hierarchy import  dendrogram,linkage\n",
    "from scipy.cluster import hierarchy\n",
    "import matplotlib.pyplot as plt\n",
    "from scipy.spatial.distance import hamming\n",
    "from scipy.spatial.distance import pdist\n",
    "import numpy as np"
   ]
  },
  {
   "cell_type": "code",
   "execution_count": 10,
   "metadata": {},
   "outputs": [
    {
     "name": "stderr",
     "output_type": "stream",
     "text": [
      "INFO:root:TCA object initialized successfully\n"
     ]
    }
   ],
   "source": [
    "from TrajectoryClusteringAnalysis import TCA\n",
    "df = pd.read_csv('../data/mvad_data.csv')\n",
    "# tranformer vos données en format large si c'est n'est pas le cas \n",
    "state_mapping = {\"EM\": 2, \"FE\": 4, \"HE\": 6, \"JL\": 8, \"SC\": 10, \"TR\": 12}\n",
    "colors = ['blue', 'orange', 'green', 'red', 'yellow', 'gray']\n",
    "df_numeriques = df.replace(state_mapping)\n",
    "tca = TCA.TCA(df_numeriques,state_mapping,colors)"
   ]
  }
 ],
 "metadata": {
  "kernelspec": {
   "display_name": "base",
   "language": "python",
   "name": "python3"
  },
  "language_info": {
   "codemirror_mode": {
    "name": "ipython",
    "version": 3
   },
   "file_extension": ".py",
   "mimetype": "text/x-python",
   "name": "python",
   "nbconvert_exporter": "python",
   "pygments_lexer": "ipython3",
   "version": "3.11.5"
  }
 },
 "nbformat": 4,
 "nbformat_minor": 2
}
